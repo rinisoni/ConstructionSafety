{
 "cells": [
  {
   "cell_type": "code",
   "execution_count": 25,
   "metadata": {},
   "outputs": [],
   "source": [
    "import os\n",
    "import numpy as np\n",
    "import torch\n",
    "import cv2\n",
    "import torchvision.transforms as transforms\n",
    "from torchvision.models import resnet50\n",
    "from scipy.spatial.distance import cosine"
   ]
  },
  {
   "cell_type": "code",
   "execution_count": 26,
   "metadata": {},
   "outputs": [],
   "source": [
    "#paths\n",
    "ref_folder=r\"D:\\ConstructionSiteSafety\\img\""
   ]
  },
  {
   "cell_type": "code",
   "execution_count": null,
   "metadata": {},
   "outputs": [],
   "source": [
    "#load the pre-trained ResNet model\n",
    "model=resnet50(pretrained=True)\n",
    "model.eval()#set to evaluation mode"
   ]
  },
  {
   "cell_type": "code",
   "execution_count": 28,
   "metadata": {},
   "outputs": [],
   "source": [
    "#Transform for preprocessing images\n",
    "transform=transforms.Compose([\n",
    "    transforms.ToTensor(),\n",
    "    transforms.Resize((224,224)), #resize to ResNet input size\n",
    "    transforms.Normalize(mean=[0.485,0.456,0.406], std=[0.229,0.224, 0.225])\n",
    "])"
   ]
  },
  {
   "cell_type": "code",
   "execution_count": 29,
   "metadata": {},
   "outputs": [],
   "source": [
    "#function to extfract features from an image\n",
    "def extract_features(image):\n",
    "    img_tensor=transform(image).unsqueeze(0)#apply transformatuions and add batch dimension\n",
    "    with torch.no_grad():\n",
    "        features=model(img_tensor).flatten().numpy()#extract features\n",
    "        return features"
   ]
  },
  {
   "cell_type": "code",
   "execution_count": 30,
   "metadata": {},
   "outputs": [],
   "source": [
    "#extract features from all reference helmet images\n",
    "ref_features={}\n",
    "for img_file in os.listdir(ref_folder):\n",
    "    img_path=os.path.join(ref_folder,img_file)\n",
    "    img=cv2.imread(img_path)\n",
    "    img=cv2.cvtColor(img,cv2.COLOR_BGR2RGB)#convert to rgb\n",
    "    ref_features[img_file]=extract_features(img)"
   ]
  },
  {
   "cell_type": "code",
   "execution_count": 31,
   "metadata": {},
   "outputs": [],
   "source": [
    "#Initialize the webcam\n",
    "cap=cv2.VideoCapture(0)"
   ]
  },
  {
   "cell_type": "code",
   "execution_count": 32,
   "metadata": {},
   "outputs": [],
   "source": [
    "#Load the pre-trained custom helmet detection model(you need to ensure this path is correct)\n",
    "helmet_cascade_path=r\"file:///D:/ConstructionSiteSafety/annotations.xml\"\n",
    "helmet_cascade=cv2.CascadeClassifier(helmet_cascade_path)"
   ]
  },
  {
   "cell_type": "code",
   "execution_count": null,
   "metadata": {},
   "outputs": [],
   "source": [
    "#check if the cascade is loaded successfully\n",
    "if helmet_cascade.empty():\n",
    "    print(\"Error: Unable to load the helmet cascade file!\")\n",
    "else:\n",
    "    print(\"Helmet cascade loaded successfully!\")\n",
    "\n",
    "while True:\n",
    "    ret, frame=cap.read()\n",
    "    if not ret:\n",
    "        break"
   ]
  },
  {
   "cell_type": "code",
   "execution_count": null,
   "metadata": {},
   "outputs": [],
   "source": [
    "w#convert the frame to grayscale for helmet detetction\n",
    "gray_frame=cv2.cvtColor(frame,cv2.COLOR_BGR2GRAY)"
   ]
  },
  {
   "cell_type": "code",
   "execution_count": null,
   "metadata": {},
   "outputs": [],
   "source": [
    "#detect helmets in the frame using the custom cascade\n",
    "helmets=helmet_cascade.detectMultiScale(gray_frame,scaleFactor=1.1,minNeighbors=5, minSize=(50,50))"
   ]
  },
  {
   "cell_type": "markdown",
   "metadata": {},
   "source": []
  }
 ],
 "metadata": {
  "kernelspec": {
   "display_name": "Python 3",
   "language": "python",
   "name": "python3"
  },
  "language_info": {
   "codemirror_mode": {
    "name": "ipython",
    "version": 3
   },
   "file_extension": ".py",
   "mimetype": "text/x-python",
   "name": "python",
   "nbconvert_exporter": "python",
   "pygments_lexer": "ipython3",
   "version": "3.11.9"
  }
 },
 "nbformat": 4,
 "nbformat_minor": 2
}
